{
 "cells": [
  {
   "cell_type": "code",
   "execution_count": 3,
   "metadata": {},
   "outputs": [],
   "source": [
    "import numpy as np\n",
    "import pandas as pd"
   ]
  },
  {
   "cell_type": "code",
   "execution_count": 5,
   "metadata": {},
   "outputs": [
    {
     "name": "stdout",
     "output_type": "stream",
     "text": [
      "Index(['X', 'Y', 'OBJECTID', 'COD_SIG_TR', 'COD_VIA', 'DESIGNACAO',\n",
      "       'HIERARQUIA', 'EIXO', 'TIPOLOGIA', 'SITUACAO', 'DUPL_TROC', 'ZONA',\n",
      "       'COMPRIMENTO', 'IDTIPO', 'SITUACAO_PROJ_OBRA', 'FREGUESIA', 'ZONAMENTO',\n",
      "       'ORCAMENTO', 'NOME_PROJETO', 'SITUACAO_PROJ', 'ANO', 'PERIODO',\n",
      "       'PLANEAMENTO_GVMG', 'TIPOLOGIA_AML', 'ESTADO_AML', 'F_PRINCIPAL',\n",
      "       'SGPI', 'VALIDACAO', 'GlobalID', 'Shape__Length'],\n",
      "      dtype='object')\n",
      "          X          Y  OBJECTID COD_SIG_TR   COD_VIA  \\\n",
      "0 -9.125824  38.766308         1   B0000372  B0000372   \n",
      "1 -9.144900  38.718792         7       8051     34187   \n",
      "2 -9.185590  38.767957        28      22923    100487   \n",
      "3 -9.185430  38.767333        29      14433    100487   \n",
      "4 -9.186309  38.768586        30      18026    100487   \n",
      "\n",
      "                                     DESIGNACAO HIERARQUIA               EIXO  \\\n",
      "0  Mata de Alvalade - Parque Urbano dos Olivais  Principal  Circular Exterior   \n",
      "1                          Avenida da Liberdade  Principal            Central   \n",
      "2        Avenida Prof. Francisco da Gama Caeiro      Local                NaN   \n",
      "3        Avenida Prof. Francisco da Gama Caeiro      Local                NaN   \n",
      "4        Avenida Prof. Francisco da Gama Caeiro      Local                NaN   \n",
      "\n",
      "                     TIPOLOGIA   SITUACAO  ...   ANO PERIODO  \\\n",
      "0  Pista Ciclável Bidirecional  Executado  ...     -     NaN   \n",
      "1                      30+Bici  Executado  ...  2013     NaN   \n",
      "2  Pista Ciclável Bidirecional  Executado  ...  2017     NaN   \n",
      "3  Pista Ciclável Bidirecional  Executado  ...  2017     NaN   \n",
      "4  Pista Ciclável Bidirecional  Executado  ...  2017     NaN   \n",
      "\n",
      "   PLANEAMENTO_GVMG              TIPOLOGIA_AML ESTADO_AML  \\\n",
      "0               NaN  Pista ciclavel (ciclovia)  Executado   \n",
      "1               NaN             Via banalizada  Executado   \n",
      "2               NaN  Pista ciclavel (ciclovia)  Executado   \n",
      "3               NaN  Pista ciclavel (ciclovia)  Executado   \n",
      "4               NaN  Pista ciclavel (ciclovia)  Executado   \n",
      "\n",
      "                           F_PRINCIPAL SGPI  VALIDACAO  \\\n",
      "0  Via destinada a funcoes quotidianas  NaN        NaN   \n",
      "1  Via destinada a funcoes quotidianas  NaN        NaN   \n",
      "2  Via destinada a funcoes quotidianas  NaN        NaN   \n",
      "3  Via destinada a funcoes quotidianas  NaN        NaN   \n",
      "4  Via destinada a funcoes quotidianas  NaN        NaN   \n",
      "\n",
      "                               GlobalID Shape__Length  \n",
      "0  91a95781-da91-49c4-b185-fc5addba773f   1132.912401  \n",
      "1  9e9caf01-df4d-4159-be3e-fdba4bc12280    175.348034  \n",
      "2  f34dfd82-1a14-4f78-a860-cac5557f7ed4     59.381992  \n",
      "3  d428c106-2027-496c-9f80-e1507a1bdfa5     84.778977  \n",
      "4  0f02431d-4ca0-48bb-8070-812ba22a6cd4    365.294482  \n",
      "\n",
      "[5 rows x 30 columns]\n"
     ]
    }
   ],
   "source": [
    "raw_data = pd.read_csv('Ciclovias.csv')\n",
    "\n",
    "print(raw_data.columns)\n",
    "print(raw_data.head())"
   ]
  },
  {
   "cell_type": "code",
   "execution_count": null,
   "metadata": {},
   "outputs": [],
   "source": [
    "desired_columns = ['DESIGNACAO', 'FREGUESIA', 'ZONAMENTO', 'ANO', '']"
   ]
  }
 ],
 "metadata": {
  "kernelspec": {
   "display_name": "Python 3",
   "language": "python",
   "name": "python3"
  },
  "language_info": {
   "codemirror_mode": {
    "name": "ipython",
    "version": 3
   },
   "file_extension": ".py",
   "mimetype": "text/x-python",
   "name": "python",
   "nbconvert_exporter": "python",
   "pygments_lexer": "ipython3",
   "version": "3.6.9"
  }
 },
 "nbformat": 4,
 "nbformat_minor": 2
}
